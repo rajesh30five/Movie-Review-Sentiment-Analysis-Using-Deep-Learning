{
 "cells": [
  {
   "cell_type": "code",
   "execution_count": 112,
   "id": "77a1abee-a77c-4977-b527-43dcc6319344",
   "metadata": {},
   "outputs": [],
   "source": [
    "import pandas as pd\n",
    "import numpy as np\n",
    "import sklearn\n",
    "import tensorflow\n",
    "import warnings\n",
    "warnings.filterwarnings(\"ignore\")"
   ]
  },
  {
   "cell_type": "code",
   "execution_count": 114,
   "id": "3b69adf7-7a94-4ffb-9bf5-43f362db9db5",
   "metadata": {},
   "outputs": [],
   "source": [
    "data=pd.read_csv(\"IMDB_Dataset.csv\")"
   ]
  },
  {
   "cell_type": "code",
   "execution_count": 115,
   "id": "25096bbb-ca1d-42da-981b-5738e897d906",
   "metadata": {},
   "outputs": [
    {
     "data": {
      "text/html": [
       "<div>\n",
       "<style scoped>\n",
       "    .dataframe tbody tr th:only-of-type {\n",
       "        vertical-align: middle;\n",
       "    }\n",
       "\n",
       "    .dataframe tbody tr th {\n",
       "        vertical-align: top;\n",
       "    }\n",
       "\n",
       "    .dataframe thead th {\n",
       "        text-align: right;\n",
       "    }\n",
       "</style>\n",
       "<table border=\"1\" class=\"dataframe\">\n",
       "  <thead>\n",
       "    <tr style=\"text-align: right;\">\n",
       "      <th></th>\n",
       "      <th>review</th>\n",
       "      <th>sentiment</th>\n",
       "    </tr>\n",
       "  </thead>\n",
       "  <tbody>\n",
       "    <tr>\n",
       "      <th>0</th>\n",
       "      <td>One of the other reviewers has mentioned that ...</td>\n",
       "      <td>positive</td>\n",
       "    </tr>\n",
       "    <tr>\n",
       "      <th>1</th>\n",
       "      <td>A wonderful little production. &lt;br /&gt;&lt;br /&gt;The...</td>\n",
       "      <td>positive</td>\n",
       "    </tr>\n",
       "    <tr>\n",
       "      <th>2</th>\n",
       "      <td>I thought this was a wonderful way to spend ti...</td>\n",
       "      <td>positive</td>\n",
       "    </tr>\n",
       "    <tr>\n",
       "      <th>3</th>\n",
       "      <td>Basically there's a family where a little boy ...</td>\n",
       "      <td>negative</td>\n",
       "    </tr>\n",
       "    <tr>\n",
       "      <th>4</th>\n",
       "      <td>Petter Mattei's \"Love in the Time of Money\" is...</td>\n",
       "      <td>positive</td>\n",
       "    </tr>\n",
       "  </tbody>\n",
       "</table>\n",
       "</div>"
      ],
      "text/plain": [
       "                                              review sentiment\n",
       "0  One of the other reviewers has mentioned that ...  positive\n",
       "1  A wonderful little production. <br /><br />The...  positive\n",
       "2  I thought this was a wonderful way to spend ti...  positive\n",
       "3  Basically there's a family where a little boy ...  negative\n",
       "4  Petter Mattei's \"Love in the Time of Money\" is...  positive"
      ]
     },
     "execution_count": 115,
     "metadata": {},
     "output_type": "execute_result"
    }
   ],
   "source": [
    "data.head()\n"
   ]
  },
  {
   "cell_type": "code",
   "execution_count": 118,
   "id": "387bc86a-4e6c-48e2-a268-3405a669e3ca",
   "metadata": {},
   "outputs": [
    {
     "data": {
      "text/plain": [
       "(50000, 2)"
      ]
     },
     "execution_count": 118,
     "metadata": {},
     "output_type": "execute_result"
    }
   ],
   "source": [
    "data.shape"
   ]
  },
  {
   "cell_type": "code",
   "execution_count": 120,
   "id": "6f3b794b-c220-406c-b06b-1003141c043a",
   "metadata": {},
   "outputs": [
    {
     "data": {
      "text/html": [
       "<div>\n",
       "<style scoped>\n",
       "    .dataframe tbody tr th:only-of-type {\n",
       "        vertical-align: middle;\n",
       "    }\n",
       "\n",
       "    .dataframe tbody tr th {\n",
       "        vertical-align: top;\n",
       "    }\n",
       "\n",
       "    .dataframe thead th {\n",
       "        text-align: right;\n",
       "    }\n",
       "</style>\n",
       "<table border=\"1\" class=\"dataframe\">\n",
       "  <thead>\n",
       "    <tr style=\"text-align: right;\">\n",
       "      <th></th>\n",
       "      <th>review</th>\n",
       "      <th>sentiment</th>\n",
       "    </tr>\n",
       "  </thead>\n",
       "  <tbody>\n",
       "    <tr>\n",
       "      <th>49995</th>\n",
       "      <td>I thought this movie did a down right good job...</td>\n",
       "      <td>positive</td>\n",
       "    </tr>\n",
       "    <tr>\n",
       "      <th>49996</th>\n",
       "      <td>Bad plot, bad dialogue, bad acting, idiotic di...</td>\n",
       "      <td>negative</td>\n",
       "    </tr>\n",
       "    <tr>\n",
       "      <th>49997</th>\n",
       "      <td>I am a Catholic taught in parochial elementary...</td>\n",
       "      <td>negative</td>\n",
       "    </tr>\n",
       "    <tr>\n",
       "      <th>49998</th>\n",
       "      <td>I'm going to have to disagree with the previou...</td>\n",
       "      <td>negative</td>\n",
       "    </tr>\n",
       "    <tr>\n",
       "      <th>49999</th>\n",
       "      <td>No one expects the Star Trek movies to be high...</td>\n",
       "      <td>negative</td>\n",
       "    </tr>\n",
       "  </tbody>\n",
       "</table>\n",
       "</div>"
      ],
      "text/plain": [
       "                                                  review sentiment\n",
       "49995  I thought this movie did a down right good job...  positive\n",
       "49996  Bad plot, bad dialogue, bad acting, idiotic di...  negative\n",
       "49997  I am a Catholic taught in parochial elementary...  negative\n",
       "49998  I'm going to have to disagree with the previou...  negative\n",
       "49999  No one expects the Star Trek movies to be high...  negative"
      ]
     },
     "execution_count": 120,
     "metadata": {},
     "output_type": "execute_result"
    }
   ],
   "source": [
    "data.tail()\n"
   ]
  },
  {
   "cell_type": "code",
   "execution_count": 122,
   "id": "2ba26478-0bc7-4a9f-971b-edd6747b3ae8",
   "metadata": {},
   "outputs": [
    {
     "data": {
      "text/plain": [
       "sentiment\n",
       "positive    25000\n",
       "negative    25000\n",
       "Name: count, dtype: int64"
      ]
     },
     "execution_count": 122,
     "metadata": {},
     "output_type": "execute_result"
    }
   ],
   "source": [
    "data[\"sentiment\"].value_counts()"
   ]
  },
  {
   "cell_type": "code",
   "execution_count": 124,
   "id": "b3a79557-8d3e-4bdf-a9d4-4ed8ff68ead8",
   "metadata": {},
   "outputs": [],
   "source": [
    "data.replace({\"sentiment\":{\"positive\": 1, \"negative\": 0}},inplace=True)"
   ]
  },
  {
   "cell_type": "code",
   "execution_count": 126,
   "id": "6c612796-a91f-40cd-a21f-28fabba8c940",
   "metadata": {},
   "outputs": [
    {
     "data": {
      "text/html": [
       "<div>\n",
       "<style scoped>\n",
       "    .dataframe tbody tr th:only-of-type {\n",
       "        vertical-align: middle;\n",
       "    }\n",
       "\n",
       "    .dataframe tbody tr th {\n",
       "        vertical-align: top;\n",
       "    }\n",
       "\n",
       "    .dataframe thead th {\n",
       "        text-align: right;\n",
       "    }\n",
       "</style>\n",
       "<table border=\"1\" class=\"dataframe\">\n",
       "  <thead>\n",
       "    <tr style=\"text-align: right;\">\n",
       "      <th></th>\n",
       "      <th>review</th>\n",
       "      <th>sentiment</th>\n",
       "    </tr>\n",
       "  </thead>\n",
       "  <tbody>\n",
       "    <tr>\n",
       "      <th>0</th>\n",
       "      <td>One of the other reviewers has mentioned that ...</td>\n",
       "      <td>1</td>\n",
       "    </tr>\n",
       "    <tr>\n",
       "      <th>1</th>\n",
       "      <td>A wonderful little production. &lt;br /&gt;&lt;br /&gt;The...</td>\n",
       "      <td>1</td>\n",
       "    </tr>\n",
       "    <tr>\n",
       "      <th>2</th>\n",
       "      <td>I thought this was a wonderful way to spend ti...</td>\n",
       "      <td>1</td>\n",
       "    </tr>\n",
       "    <tr>\n",
       "      <th>3</th>\n",
       "      <td>Basically there's a family where a little boy ...</td>\n",
       "      <td>0</td>\n",
       "    </tr>\n",
       "    <tr>\n",
       "      <th>4</th>\n",
       "      <td>Petter Mattei's \"Love in the Time of Money\" is...</td>\n",
       "      <td>1</td>\n",
       "    </tr>\n",
       "  </tbody>\n",
       "</table>\n",
       "</div>"
      ],
      "text/plain": [
       "                                              review  sentiment\n",
       "0  One of the other reviewers has mentioned that ...          1\n",
       "1  A wonderful little production. <br /><br />The...          1\n",
       "2  I thought this was a wonderful way to spend ti...          1\n",
       "3  Basically there's a family where a little boy ...          0\n",
       "4  Petter Mattei's \"Love in the Time of Money\" is...          1"
      ]
     },
     "execution_count": 126,
     "metadata": {},
     "output_type": "execute_result"
    }
   ],
   "source": [
    "data.head()\n"
   ]
  },
  {
   "cell_type": "code",
   "execution_count": 128,
   "id": "c679f357-72d6-4478-9338-928538c23345",
   "metadata": {},
   "outputs": [
    {
     "name": "stdout",
     "output_type": "stream",
     "text": [
      "Requirement already satisfied: tensorflow in d:\\anaconda\\lib\\site-packages (2.17.0)\n",
      "Requirement already satisfied: tensorflow-intel==2.17.0 in d:\\anaconda\\lib\\site-packages (from tensorflow) (2.17.0)\n",
      "Requirement already satisfied: absl-py>=1.0.0 in d:\\anaconda\\lib\\site-packages (from tensorflow-intel==2.17.0->tensorflow) (2.1.0)\n",
      "Requirement already satisfied: astunparse>=1.6.0 in d:\\anaconda\\lib\\site-packages (from tensorflow-intel==2.17.0->tensorflow) (1.6.3)\n",
      "Requirement already satisfied: flatbuffers>=24.3.25 in d:\\anaconda\\lib\\site-packages (from tensorflow-intel==2.17.0->tensorflow) (24.3.25)\n",
      "Requirement already satisfied: gast!=0.5.0,!=0.5.1,!=0.5.2,>=0.2.1 in d:\\anaconda\\lib\\site-packages (from tensorflow-intel==2.17.0->tensorflow) (0.6.0)\n",
      "Requirement already satisfied: google-pasta>=0.1.1 in d:\\anaconda\\lib\\site-packages (from tensorflow-intel==2.17.0->tensorflow) (0.2.0)\n",
      "Requirement already satisfied: h5py>=3.10.0 in d:\\anaconda\\lib\\site-packages (from tensorflow-intel==2.17.0->tensorflow) (3.11.0)\n",
      "Requirement already satisfied: libclang>=13.0.0 in d:\\anaconda\\lib\\site-packages (from tensorflow-intel==2.17.0->tensorflow) (18.1.1)\n",
      "Requirement already satisfied: ml-dtypes<0.5.0,>=0.3.1 in d:\\anaconda\\lib\\site-packages (from tensorflow-intel==2.17.0->tensorflow) (0.4.1)\n",
      "Requirement already satisfied: opt-einsum>=2.3.2 in d:\\anaconda\\lib\\site-packages (from tensorflow-intel==2.17.0->tensorflow) (3.4.0)\n",
      "Requirement already satisfied: packaging in d:\\anaconda\\lib\\site-packages (from tensorflow-intel==2.17.0->tensorflow) (23.2)\n",
      "Requirement already satisfied: protobuf!=4.21.0,!=4.21.1,!=4.21.2,!=4.21.3,!=4.21.4,!=4.21.5,<5.0.0dev,>=3.20.3 in d:\\anaconda\\lib\\site-packages (from tensorflow-intel==2.17.0->tensorflow) (3.20.3)\n",
      "Requirement already satisfied: requests<3,>=2.21.0 in d:\\anaconda\\lib\\site-packages (from tensorflow-intel==2.17.0->tensorflow) (2.32.2)\n",
      "Requirement already satisfied: setuptools in d:\\anaconda\\lib\\site-packages (from tensorflow-intel==2.17.0->tensorflow) (69.5.1)\n",
      "Requirement already satisfied: six>=1.12.0 in d:\\anaconda\\lib\\site-packages (from tensorflow-intel==2.17.0->tensorflow) (1.16.0)\n",
      "Requirement already satisfied: termcolor>=1.1.0 in d:\\anaconda\\lib\\site-packages (from tensorflow-intel==2.17.0->tensorflow) (2.5.0)\n",
      "Requirement already satisfied: typing-extensions>=3.6.6 in d:\\anaconda\\lib\\site-packages (from tensorflow-intel==2.17.0->tensorflow) (4.11.0)\n",
      "Requirement already satisfied: wrapt>=1.11.0 in d:\\anaconda\\lib\\site-packages (from tensorflow-intel==2.17.0->tensorflow) (1.14.1)\n",
      "Requirement already satisfied: grpcio<2.0,>=1.24.3 in d:\\anaconda\\lib\\site-packages (from tensorflow-intel==2.17.0->tensorflow) (1.66.2)\n",
      "Requirement already satisfied: tensorboard<2.18,>=2.17 in d:\\anaconda\\lib\\site-packages (from tensorflow-intel==2.17.0->tensorflow) (2.17.1)\n",
      "Requirement already satisfied: keras>=3.2.0 in d:\\anaconda\\lib\\site-packages (from tensorflow-intel==2.17.0->tensorflow) (3.6.0)\n",
      "Requirement already satisfied: numpy<2.0.0,>=1.26.0 in d:\\anaconda\\lib\\site-packages (from tensorflow-intel==2.17.0->tensorflow) (1.26.4)\n",
      "Requirement already satisfied: wheel<1.0,>=0.23.0 in d:\\anaconda\\lib\\site-packages (from astunparse>=1.6.0->tensorflow-intel==2.17.0->tensorflow) (0.43.0)\n",
      "Requirement already satisfied: rich in d:\\anaconda\\lib\\site-packages (from keras>=3.2.0->tensorflow-intel==2.17.0->tensorflow) (13.3.5)\n",
      "Requirement already satisfied: namex in d:\\anaconda\\lib\\site-packages (from keras>=3.2.0->tensorflow-intel==2.17.0->tensorflow) (0.0.8)\n",
      "Requirement already satisfied: optree in d:\\anaconda\\lib\\site-packages (from keras>=3.2.0->tensorflow-intel==2.17.0->tensorflow) (0.13.0)\n",
      "Requirement already satisfied: charset-normalizer<4,>=2 in d:\\anaconda\\lib\\site-packages (from requests<3,>=2.21.0->tensorflow-intel==2.17.0->tensorflow) (2.0.4)\n",
      "Requirement already satisfied: idna<4,>=2.5 in d:\\anaconda\\lib\\site-packages (from requests<3,>=2.21.0->tensorflow-intel==2.17.0->tensorflow) (3.7)\n",
      "Requirement already satisfied: urllib3<3,>=1.21.1 in d:\\anaconda\\lib\\site-packages (from requests<3,>=2.21.0->tensorflow-intel==2.17.0->tensorflow) (2.2.2)\n",
      "Requirement already satisfied: certifi>=2017.4.17 in d:\\anaconda\\lib\\site-packages (from requests<3,>=2.21.0->tensorflow-intel==2.17.0->tensorflow) (2024.8.30)\n",
      "Requirement already satisfied: markdown>=2.6.8 in d:\\anaconda\\lib\\site-packages (from tensorboard<2.18,>=2.17->tensorflow-intel==2.17.0->tensorflow) (3.4.1)\n",
      "Requirement already satisfied: tensorboard-data-server<0.8.0,>=0.7.0 in d:\\anaconda\\lib\\site-packages (from tensorboard<2.18,>=2.17->tensorflow-intel==2.17.0->tensorflow) (0.7.2)\n",
      "Requirement already satisfied: werkzeug>=1.0.1 in d:\\anaconda\\lib\\site-packages (from tensorboard<2.18,>=2.17->tensorflow-intel==2.17.0->tensorflow) (3.0.3)\n",
      "Requirement already satisfied: MarkupSafe>=2.1.1 in d:\\anaconda\\lib\\site-packages (from werkzeug>=1.0.1->tensorboard<2.18,>=2.17->tensorflow-intel==2.17.0->tensorflow) (2.1.3)\n",
      "Requirement already satisfied: markdown-it-py<3.0.0,>=2.2.0 in d:\\anaconda\\lib\\site-packages (from rich->keras>=3.2.0->tensorflow-intel==2.17.0->tensorflow) (2.2.0)\n",
      "Requirement already satisfied: pygments<3.0.0,>=2.13.0 in d:\\anaconda\\lib\\site-packages (from rich->keras>=3.2.0->tensorflow-intel==2.17.0->tensorflow) (2.15.1)\n",
      "Requirement already satisfied: mdurl~=0.1 in d:\\anaconda\\lib\\site-packages (from markdown-it-py<3.0.0,>=2.2.0->rich->keras>=3.2.0->tensorflow-intel==2.17.0->tensorflow) (0.1.0)\n"
     ]
    }
   ],
   "source": [
    "!pip install tensorflow\n"
   ]
  },
  {
   "cell_type": "code",
   "execution_count": 129,
   "id": "8baeba72-2d7e-4826-9ed8-8cf9037700e0",
   "metadata": {},
   "outputs": [],
   "source": [
    "from sklearn.model_selection import train_test_split\n",
    "from tensorflow.keras.models import Sequential\n",
    "from tensorflow.keras.layers import Dense, Embedding, LSTM\n",
    "from tensorflow.keras.preprocessing.text import Tokenizer\n",
    "from tensorflow.keras.preprocessing.sequence import pad_sequences\n"
   ]
  },
  {
   "cell_type": "code",
   "execution_count": 130,
   "id": "021bd448-8815-4ac4-a33f-01800c9dfcc4",
   "metadata": {},
   "outputs": [],
   "source": [
    " train_data, test_data = train_test_split(data, test_size=0.2, random_state=42)"
   ]
  },
  {
   "cell_type": "code",
   "execution_count": 131,
   "id": "0a91e662-a047-49a9-859a-ee67b6842c78",
   "metadata": {},
   "outputs": [
    {
     "data": {
      "text/plain": [
       "(40000, 2)"
      ]
     },
     "execution_count": 131,
     "metadata": {},
     "output_type": "execute_result"
    }
   ],
   "source": [
    "train_data.shape\n"
   ]
  },
  {
   "cell_type": "code",
   "execution_count": 132,
   "id": "d0e7c663-4448-4b67-9cd3-c7e537f3c7ef",
   "metadata": {},
   "outputs": [
    {
     "data": {
      "text/plain": [
       "(10000, 2)"
      ]
     },
     "execution_count": 132,
     "metadata": {},
     "output_type": "execute_result"
    }
   ],
   "source": [
    "  test_data.shape"
   ]
  },
  {
   "cell_type": "code",
   "execution_count": 133,
   "id": "2e6ceb7f-0bac-447b-a519-b422edcd8dd1",
   "metadata": {},
   "outputs": [],
   "source": [
    "tokenizer=Tokenizer(num_words = 5000)\n",
    "tokenizer.fit_on_texts(train_data[\"review\"])\n"
   ]
  },
  {
   "cell_type": "code",
   "execution_count": 134,
   "id": "64bfd409-168b-40c3-8245-601af062c951",
   "metadata": {},
   "outputs": [],
   "source": [
    "X_train= pad_sequences(tokenizer.texts_to_sequences(train_data[\"review\"]),maxlen=200)\n",
    "X_test= pad_sequences(tokenizer.texts_to_sequences(test_data[\"review\"]),maxlen=200)"
   ]
  },
  {
   "cell_type": "code",
   "execution_count": 135,
   "id": "a231b4fa-607e-4376-bc01-1483850b71ea",
   "metadata": {},
   "outputs": [
    {
     "data": {
      "text/plain": [
       "array([[1935,    1, 1200, ...,  205,  351, 3856],\n",
       "       [   3, 1651,  595, ...,   89,  103,    9],\n",
       "       [   0,    0,    0, ...,    2,  710,   62],\n",
       "       ...,\n",
       "       [   0,    0,    0, ..., 1641,    2,  603],\n",
       "       [   0,    0,    0, ...,  245,  103,  125],\n",
       "       [   0,    0,    0, ...,   70,   73, 2062]])"
      ]
     },
     "execution_count": 135,
     "metadata": {},
     "output_type": "execute_result"
    }
   ],
   "source": [
    "X_train"
   ]
  },
  {
   "cell_type": "code",
   "execution_count": 141,
   "id": "6ddb37b3-51ca-4240-a01a-2463ea6e4235",
   "metadata": {},
   "outputs": [
    {
     "data": {
      "text/plain": [
       "array([[   0,    0,    0, ...,  995,  719,  155],\n",
       "       [  12,  162,   59, ...,  380,    7,    7],\n",
       "       [   0,    0,    0, ...,   50, 1088,   96],\n",
       "       ...,\n",
       "       [   0,    0,    0, ...,  125,  200, 3241],\n",
       "       [   0,    0,    0, ..., 1066,    1, 2305],\n",
       "       [   0,    0,    0, ...,    1,  332,   27]])"
      ]
     },
     "execution_count": 141,
     "metadata": {},
     "output_type": "execute_result"
    }
   ],
   "source": [
    "X_test"
   ]
  },
  {
   "cell_type": "code",
   "execution_count": 142,
   "id": "5c28d51e-a8e3-4858-b1fa-f59e7dab5f8f",
   "metadata": {},
   "outputs": [],
   "source": [
    "Y_train = train_data[\"sentiment\"]\n",
    "Y_test = test_data[\"sentiment\"]"
   ]
  },
  {
   "cell_type": "code",
   "execution_count": 143,
   "id": "b09e0658-effa-4d5c-a440-0d1e9cdaf53d",
   "metadata": {},
   "outputs": [
    {
     "data": {
      "text/plain": [
       "39087    0\n",
       "30893    0\n",
       "45278    1\n",
       "16398    0\n",
       "13653    0\n",
       "        ..\n",
       "11284    1\n",
       "44732    1\n",
       "38158    0\n",
       "860      1\n",
       "15795    1\n",
       "Name: sentiment, Length: 40000, dtype: int64"
      ]
     },
     "execution_count": 143,
     "metadata": {},
     "output_type": "execute_result"
    }
   ],
   "source": [
    "Y_train"
   ]
  },
  {
   "cell_type": "code",
   "execution_count": 144,
   "id": "ce8c865e-1860-4446-827d-bf08cd491639",
   "metadata": {},
   "outputs": [
    {
     "data": {
      "text/plain": [
       "33553    1\n",
       "9427     1\n",
       "199      0\n",
       "12447    1\n",
       "39489    0\n",
       "        ..\n",
       "28567    0\n",
       "25079    1\n",
       "18707    1\n",
       "15200    0\n",
       "5857     1\n",
       "Name: sentiment, Length: 10000, dtype: int64"
      ]
     },
     "execution_count": 144,
     "metadata": {},
     "output_type": "execute_result"
    }
   ],
   "source": [
    "Y_test"
   ]
  },
  {
   "cell_type": "code",
   "execution_count": 162,
   "id": "89d32df9-b94c-411a-a5f1-4eecdcea9c17",
   "metadata": {},
   "outputs": [],
   "source": [
    "model = Sequential()\n",
    "model.add(Embedding(input_dim=5000, output_dim= 128, input_length= 200))\n",
    "model.add(LSTM(128, dropout=0.2, recurrent_dropout= 0.2))\n",
    "model.add(Dense(1, activation = \"sigmoid\"))\n",
    "model.build(input_shape=(None, 200)) "
   ]
  },
  {
   "cell_type": "code",
   "execution_count": 164,
   "id": "f61ae269-8108-46b3-9761-6158f31e5571",
   "metadata": {},
   "outputs": [
    {
     "data": {
      "text/html": [
       "<pre style=\"white-space:pre;overflow-x:auto;line-height:normal;font-family:Menlo,'DejaVu Sans Mono',consolas,'Courier New',monospace\"><span style=\"font-weight: bold\">Model: \"sequential_8\"</span>\n",
       "</pre>\n"
      ],
      "text/plain": [
       "\u001b[1mModel: \"sequential_8\"\u001b[0m\n"
      ]
     },
     "metadata": {},
     "output_type": "display_data"
    },
    {
     "data": {
      "text/html": [
       "<pre style=\"white-space:pre;overflow-x:auto;line-height:normal;font-family:Menlo,'DejaVu Sans Mono',consolas,'Courier New',monospace\">┏━━━━━━━━━━━━━━━━━━━━━━━━━━━━━━━━━┳━━━━━━━━━━━━━━━━━━━━━━━━┳━━━━━━━━━━━━━━━┓\n",
       "┃<span style=\"font-weight: bold\"> Layer (type)                    </span>┃<span style=\"font-weight: bold\"> Output Shape           </span>┃<span style=\"font-weight: bold\">       Param # </span>┃\n",
       "┡━━━━━━━━━━━━━━━━━━━━━━━━━━━━━━━━━╇━━━━━━━━━━━━━━━━━━━━━━━━╇━━━━━━━━━━━━━━━┩\n",
       "│ embedding_8 (<span style=\"color: #0087ff; text-decoration-color: #0087ff\">Embedding</span>)         │ (<span style=\"color: #00d7ff; text-decoration-color: #00d7ff\">None</span>, <span style=\"color: #00af00; text-decoration-color: #00af00\">200</span>, <span style=\"color: #00af00; text-decoration-color: #00af00\">128</span>)       │       <span style=\"color: #00af00; text-decoration-color: #00af00\">640,000</span> │\n",
       "├─────────────────────────────────┼────────────────────────┼───────────────┤\n",
       "│ lstm_8 (<span style=\"color: #0087ff; text-decoration-color: #0087ff\">LSTM</span>)                   │ (<span style=\"color: #00d7ff; text-decoration-color: #00d7ff\">None</span>, <span style=\"color: #00af00; text-decoration-color: #00af00\">128</span>)            │       <span style=\"color: #00af00; text-decoration-color: #00af00\">131,584</span> │\n",
       "├─────────────────────────────────┼────────────────────────┼───────────────┤\n",
       "│ dense_8 (<span style=\"color: #0087ff; text-decoration-color: #0087ff\">Dense</span>)                 │ (<span style=\"color: #00d7ff; text-decoration-color: #00d7ff\">None</span>, <span style=\"color: #00af00; text-decoration-color: #00af00\">1</span>)              │           <span style=\"color: #00af00; text-decoration-color: #00af00\">129</span> │\n",
       "└─────────────────────────────────┴────────────────────────┴───────────────┘\n",
       "</pre>\n"
      ],
      "text/plain": [
       "┏━━━━━━━━━━━━━━━━━━━━━━━━━━━━━━━━━┳━━━━━━━━━━━━━━━━━━━━━━━━┳━━━━━━━━━━━━━━━┓\n",
       "┃\u001b[1m \u001b[0m\u001b[1mLayer (type)                   \u001b[0m\u001b[1m \u001b[0m┃\u001b[1m \u001b[0m\u001b[1mOutput Shape          \u001b[0m\u001b[1m \u001b[0m┃\u001b[1m \u001b[0m\u001b[1m      Param #\u001b[0m\u001b[1m \u001b[0m┃\n",
       "┡━━━━━━━━━━━━━━━━━━━━━━━━━━━━━━━━━╇━━━━━━━━━━━━━━━━━━━━━━━━╇━━━━━━━━━━━━━━━┩\n",
       "│ embedding_8 (\u001b[38;5;33mEmbedding\u001b[0m)         │ (\u001b[38;5;45mNone\u001b[0m, \u001b[38;5;34m200\u001b[0m, \u001b[38;5;34m128\u001b[0m)       │       \u001b[38;5;34m640,000\u001b[0m │\n",
       "├─────────────────────────────────┼────────────────────────┼───────────────┤\n",
       "│ lstm_8 (\u001b[38;5;33mLSTM\u001b[0m)                   │ (\u001b[38;5;45mNone\u001b[0m, \u001b[38;5;34m128\u001b[0m)            │       \u001b[38;5;34m131,584\u001b[0m │\n",
       "├─────────────────────────────────┼────────────────────────┼───────────────┤\n",
       "│ dense_8 (\u001b[38;5;33mDense\u001b[0m)                 │ (\u001b[38;5;45mNone\u001b[0m, \u001b[38;5;34m1\u001b[0m)              │           \u001b[38;5;34m129\u001b[0m │\n",
       "└─────────────────────────────────┴────────────────────────┴───────────────┘\n"
      ]
     },
     "metadata": {},
     "output_type": "display_data"
    },
    {
     "data": {
      "text/html": [
       "<pre style=\"white-space:pre;overflow-x:auto;line-height:normal;font-family:Menlo,'DejaVu Sans Mono',consolas,'Courier New',monospace\"><span style=\"font-weight: bold\"> Total params: </span><span style=\"color: #00af00; text-decoration-color: #00af00\">771,713</span> (2.94 MB)\n",
       "</pre>\n"
      ],
      "text/plain": [
       "\u001b[1m Total params: \u001b[0m\u001b[38;5;34m771,713\u001b[0m (2.94 MB)\n"
      ]
     },
     "metadata": {},
     "output_type": "display_data"
    },
    {
     "data": {
      "text/html": [
       "<pre style=\"white-space:pre;overflow-x:auto;line-height:normal;font-family:Menlo,'DejaVu Sans Mono',consolas,'Courier New',monospace\"><span style=\"font-weight: bold\"> Trainable params: </span><span style=\"color: #00af00; text-decoration-color: #00af00\">771,713</span> (2.94 MB)\n",
       "</pre>\n"
      ],
      "text/plain": [
       "\u001b[1m Trainable params: \u001b[0m\u001b[38;5;34m771,713\u001b[0m (2.94 MB)\n"
      ]
     },
     "metadata": {},
     "output_type": "display_data"
    },
    {
     "data": {
      "text/html": [
       "<pre style=\"white-space:pre;overflow-x:auto;line-height:normal;font-family:Menlo,'DejaVu Sans Mono',consolas,'Courier New',monospace\"><span style=\"font-weight: bold\"> Non-trainable params: </span><span style=\"color: #00af00; text-decoration-color: #00af00\">0</span> (0.00 B)\n",
       "</pre>\n"
      ],
      "text/plain": [
       "\u001b[1m Non-trainable params: \u001b[0m\u001b[38;5;34m0\u001b[0m (0.00 B)\n"
      ]
     },
     "metadata": {},
     "output_type": "display_data"
    }
   ],
   "source": [
    "model.summary()"
   ]
  },
  {
   "cell_type": "code",
   "execution_count": 166,
   "id": "6530e84f-ba3f-4034-b47a-5c1dffc4d784",
   "metadata": {},
   "outputs": [],
   "source": [
    "model.compile(optimizer = \"adam\", loss= \"binary_crossentropy\", metrics=[\"accuracy\"])"
   ]
  },
  {
   "cell_type": "code",
   "execution_count": 168,
   "id": "1b7a9aaa-7f5f-42e3-8b62-7cbf45bc95d6",
   "metadata": {},
   "outputs": [
    {
     "name": "stdout",
     "output_type": "stream",
     "text": [
      "Epoch 1/10\n",
      "\u001b[1m500/500\u001b[0m \u001b[32m━━━━━━━━━━━━━━━━━━━━\u001b[0m\u001b[37m\u001b[0m \u001b[1m76s\u001b[0m 147ms/step - accuracy: 0.7225 - loss: 0.5249 - val_accuracy: 0.8357 - val_loss: 0.3895\n",
      "Epoch 2/10\n",
      "\u001b[1m500/500\u001b[0m \u001b[32m━━━━━━━━━━━━━━━━━━━━\u001b[0m\u001b[37m\u001b[0m \u001b[1m81s\u001b[0m 161ms/step - accuracy: 0.8349 - loss: 0.3897 - val_accuracy: 0.8506 - val_loss: 0.3613\n",
      "Epoch 3/10\n",
      "\u001b[1m500/500\u001b[0m \u001b[32m━━━━━━━━━━━━━━━━━━━━\u001b[0m\u001b[37m\u001b[0m \u001b[1m81s\u001b[0m 162ms/step - accuracy: 0.8581 - loss: 0.3442 - val_accuracy: 0.8431 - val_loss: 0.3646\n",
      "Epoch 4/10\n",
      "\u001b[1m500/500\u001b[0m \u001b[32m━━━━━━━━━━━━━━━━━━━━\u001b[0m\u001b[37m\u001b[0m \u001b[1m77s\u001b[0m 154ms/step - accuracy: 0.8882 - loss: 0.2836 - val_accuracy: 0.8648 - val_loss: 0.3241\n",
      "Epoch 5/10\n",
      "\u001b[1m500/500\u001b[0m \u001b[32m━━━━━━━━━━━━━━━━━━━━\u001b[0m\u001b[37m\u001b[0m \u001b[1m78s\u001b[0m 156ms/step - accuracy: 0.8974 - loss: 0.2560 - val_accuracy: 0.8620 - val_loss: 0.3493\n",
      "Epoch 6/10\n",
      "\u001b[1m500/500\u001b[0m \u001b[32m━━━━━━━━━━━━━━━━━━━━\u001b[0m\u001b[37m\u001b[0m \u001b[1m78s\u001b[0m 155ms/step - accuracy: 0.9161 - loss: 0.2148 - val_accuracy: 0.8705 - val_loss: 0.3309\n",
      "Epoch 7/10\n",
      "\u001b[1m500/500\u001b[0m \u001b[32m━━━━━━━━━━━━━━━━━━━━\u001b[0m\u001b[37m\u001b[0m \u001b[1m83s\u001b[0m 166ms/step - accuracy: 0.9307 - loss: 0.1881 - val_accuracy: 0.8540 - val_loss: 0.3530\n",
      "Epoch 8/10\n",
      "\u001b[1m500/500\u001b[0m \u001b[32m━━━━━━━━━━━━━━━━━━━━\u001b[0m\u001b[37m\u001b[0m \u001b[1m79s\u001b[0m 158ms/step - accuracy: 0.9316 - loss: 0.1791 - val_accuracy: 0.8721 - val_loss: 0.3633\n",
      "Epoch 9/10\n",
      "\u001b[1m500/500\u001b[0m \u001b[32m━━━━━━━━━━━━━━━━━━━━\u001b[0m\u001b[37m\u001b[0m \u001b[1m78s\u001b[0m 157ms/step - accuracy: 0.9387 - loss: 0.1583 - val_accuracy: 0.8755 - val_loss: 0.3644\n",
      "Epoch 10/10\n",
      "\u001b[1m500/500\u001b[0m \u001b[32m━━━━━━━━━━━━━━━━━━━━\u001b[0m\u001b[37m\u001b[0m \u001b[1m79s\u001b[0m 158ms/step - accuracy: 0.9486 - loss: 0.1380 - val_accuracy: 0.8723 - val_loss: 0.3670\n"
     ]
    },
    {
     "data": {
      "text/plain": [
       "<keras.src.callbacks.history.History at 0x23e4029de80>"
      ]
     },
     "execution_count": 168,
     "metadata": {},
     "output_type": "execute_result"
    }
   ],
   "source": [
    "model.fit(X_train, Y_train, epochs=10, batch_size= 64, validation_split=0.2) "
   ]
  },
  {
   "cell_type": "code",
   "execution_count": 172,
   "id": "bb5f3d07-df69-46c4-a76e-b86b4e9c3c3e",
   "metadata": {},
   "outputs": [
    {
     "name": "stdout",
     "output_type": "stream",
     "text": [
      "\u001b[1m313/313\u001b[0m \u001b[32m━━━━━━━━━━━━━━━━━━━━\u001b[0m\u001b[37m\u001b[0m \u001b[1m9s\u001b[0m 29ms/step - accuracy: 0.8685 - loss: 0.3579\n"
     ]
    }
   ],
   "source": [
    "loss, accuracy = model.evaluate(X_test, Y_test)"
   ]
  },
  {
   "cell_type": "code",
   "execution_count": 174,
   "id": "3bc8baae-68ff-476c-9c85-c7989aad1efb",
   "metadata": {},
   "outputs": [
    {
     "name": "stdout",
     "output_type": "stream",
     "text": [
      "0.35212358832359314\n"
     ]
    }
   ],
   "source": [
    "print(loss)"
   ]
  },
  {
   "cell_type": "code",
   "execution_count": 176,
   "id": "7e4ea020-af23-4f88-85ef-a4ce024699b0",
   "metadata": {},
   "outputs": [
    {
     "name": "stdout",
     "output_type": "stream",
     "text": [
      "0.8712999820709229\n"
     ]
    }
   ],
   "source": [
    "print(accuracy)\n"
   ]
  },
  {
   "cell_type": "code",
   "execution_count": 211,
   "id": "c4e960e3-7b0a-4df6-9253-decf6d8b554e",
   "metadata": {},
   "outputs": [],
   "source": [
    "def predictive_system(review):\n",
    "    sequences=tokenizer.texts_to_sequences([review])\n",
    "    padded_sequence = pad_sequences(sequences, maxlen=200)\n",
    "    prediction = model.predict(padded_sequence)\n",
    "    sentiment = \"positive\" if prediction[0][0]>0.5 else \"negative\"\n",
    "    #return prediction\n",
    "    return sentiment"
   ]
  },
  {
   "cell_type": "code",
   "execution_count": 213,
   "id": "0e6d8328-7127-4ea9-968a-794cccc6a88c",
   "metadata": {},
   "outputs": [
    {
     "name": "stdout",
     "output_type": "stream",
     "text": [
      "\u001b[1m1/1\u001b[0m \u001b[32m━━━━━━━━━━━━━━━━━━━━\u001b[0m\u001b[37m\u001b[0m \u001b[1m0s\u001b[0m 36ms/step\n"
     ]
    },
    {
     "data": {
      "text/plain": [
       "'negative'"
      ]
     },
     "execution_count": 213,
     "metadata": {},
     "output_type": "execute_result"
    }
   ],
   "source": [
    "predictive_system(\"This movie was very bad\")"
   ]
  },
  {
   "cell_type": "code",
   "execution_count": 215,
   "id": "27521c9e-81bf-447a-a680-b1079449b7ea",
   "metadata": {},
   "outputs": [
    {
     "name": "stdout",
     "output_type": "stream",
     "text": [
      "\u001b[1m1/1\u001b[0m \u001b[32m━━━━━━━━━━━━━━━━━━━━\u001b[0m\u001b[37m\u001b[0m \u001b[1m0s\u001b[0m 35ms/step\n"
     ]
    },
    {
     "data": {
      "text/plain": [
       "'positive'"
      ]
     },
     "execution_count": 215,
     "metadata": {},
     "output_type": "execute_result"
    }
   ],
   "source": [
    "predictive_system(\"This movie was good and amazing performance by actors \")"
   ]
  },
  {
   "cell_type": "code",
   "execution_count": 217,
   "id": "51042bae-e750-4a5c-aa64-e2e8c29934d4",
   "metadata": {},
   "outputs": [
    {
     "name": "stdout",
     "output_type": "stream",
     "text": [
      "Collecting gradio\n",
      "  Downloading gradio-5.0.1-py3-none-any.whl.metadata (15 kB)\n",
      "Collecting aiofiles<24.0,>=22.0 (from gradio)\n",
      "  Downloading aiofiles-23.2.1-py3-none-any.whl.metadata (9.7 kB)\n",
      "Requirement already satisfied: anyio<5.0,>=3.0 in d:\\anaconda\\lib\\site-packages (from gradio) (4.2.0)\n",
      "Collecting fastapi<1.0 (from gradio)\n",
      "  Downloading fastapi-0.115.0-py3-none-any.whl.metadata (27 kB)\n",
      "Collecting ffmpy (from gradio)\n",
      "  Downloading ffmpy-0.4.0-py3-none-any.whl.metadata (2.9 kB)\n",
      "Collecting gradio-client==1.4.0 (from gradio)\n",
      "  Downloading gradio_client-1.4.0-py3-none-any.whl.metadata (7.1 kB)\n",
      "Requirement already satisfied: httpx>=0.24.1 in d:\\anaconda\\lib\\site-packages (from gradio) (0.27.0)\n",
      "Collecting huggingface-hub>=0.25.1 (from gradio)\n",
      "  Downloading huggingface_hub-0.25.2-py3-none-any.whl.metadata (13 kB)\n",
      "Requirement already satisfied: jinja2<4.0 in d:\\anaconda\\lib\\site-packages (from gradio) (3.1.4)\n",
      "Requirement already satisfied: markupsafe~=2.0 in d:\\anaconda\\lib\\site-packages (from gradio) (2.1.3)\n",
      "Requirement already satisfied: numpy<3.0,>=1.0 in d:\\anaconda\\lib\\site-packages (from gradio) (1.26.4)\n",
      "Collecting orjson~=3.0 (from gradio)\n",
      "  Downloading orjson-3.10.7-cp312-none-win_amd64.whl.metadata (51 kB)\n",
      "     ---------------------------------------- 0.0/51.7 kB ? eta -:--:--\n",
      "     ---------------------------------------- 51.7/51.7 kB 1.3 MB/s eta 0:00:00\n",
      "Requirement already satisfied: packaging in d:\\anaconda\\lib\\site-packages (from gradio) (23.2)\n",
      "Requirement already satisfied: pandas<3.0,>=1.0 in d:\\anaconda\\lib\\site-packages (from gradio) (2.2.2)\n",
      "Requirement already satisfied: pillow<11.0,>=8.0 in d:\\anaconda\\lib\\site-packages (from gradio) (10.3.0)\n",
      "Requirement already satisfied: pydantic>=2.0 in d:\\anaconda\\lib\\site-packages (from gradio) (2.5.3)\n",
      "Collecting pydub (from gradio)\n",
      "  Downloading pydub-0.25.1-py2.py3-none-any.whl.metadata (1.4 kB)\n",
      "Collecting python-multipart>=0.0.9 (from gradio)\n",
      "  Downloading python_multipart-0.0.12-py3-none-any.whl.metadata (1.9 kB)\n",
      "Requirement already satisfied: pyyaml<7.0,>=5.0 in d:\\anaconda\\lib\\site-packages (from gradio) (6.0.1)\n",
      "Collecting ruff>=0.2.2 (from gradio)\n",
      "  Downloading ruff-0.6.9-py3-none-win_amd64.whl.metadata (25 kB)\n",
      "Collecting semantic-version~=2.0 (from gradio)\n",
      "  Downloading semantic_version-2.10.0-py2.py3-none-any.whl.metadata (9.7 kB)\n",
      "Collecting tomlkit==0.12.0 (from gradio)\n",
      "  Downloading tomlkit-0.12.0-py3-none-any.whl.metadata (2.7 kB)\n",
      "Collecting typer<1.0,>=0.12 (from gradio)\n",
      "  Downloading typer-0.12.5-py3-none-any.whl.metadata (15 kB)\n",
      "Requirement already satisfied: typing-extensions~=4.0 in d:\\anaconda\\lib\\site-packages (from gradio) (4.11.0)\n",
      "Collecting uvicorn>=0.14.0 (from gradio)\n",
      "  Downloading uvicorn-0.31.1-py3-none-any.whl.metadata (6.6 kB)\n",
      "Requirement already satisfied: fsspec in d:\\anaconda\\lib\\site-packages (from gradio-client==1.4.0->gradio) (2024.3.1)\n",
      "Collecting websockets<13.0,>=10.0 (from gradio-client==1.4.0->gradio)\n",
      "  Downloading websockets-12.0-cp312-cp312-win_amd64.whl.metadata (6.8 kB)\n",
      "Requirement already satisfied: idna>=2.8 in d:\\anaconda\\lib\\site-packages (from anyio<5.0,>=3.0->gradio) (3.7)\n",
      "Requirement already satisfied: sniffio>=1.1 in d:\\anaconda\\lib\\site-packages (from anyio<5.0,>=3.0->gradio) (1.3.0)\n",
      "Collecting starlette<0.39.0,>=0.37.2 (from fastapi<1.0->gradio)\n",
      "  Downloading starlette-0.38.6-py3-none-any.whl.metadata (6.0 kB)\n",
      "Requirement already satisfied: certifi in d:\\anaconda\\lib\\site-packages (from httpx>=0.24.1->gradio) (2024.8.30)\n",
      "Requirement already satisfied: httpcore==1.* in d:\\anaconda\\lib\\site-packages (from httpx>=0.24.1->gradio) (1.0.2)\n",
      "Requirement already satisfied: h11<0.15,>=0.13 in d:\\anaconda\\lib\\site-packages (from httpcore==1.*->httpx>=0.24.1->gradio) (0.14.0)\n",
      "Requirement already satisfied: filelock in d:\\anaconda\\lib\\site-packages (from huggingface-hub>=0.25.1->gradio) (3.13.1)\n",
      "Requirement already satisfied: requests in d:\\anaconda\\lib\\site-packages (from huggingface-hub>=0.25.1->gradio) (2.32.2)\n",
      "Requirement already satisfied: tqdm>=4.42.1 in d:\\anaconda\\lib\\site-packages (from huggingface-hub>=0.25.1->gradio) (4.66.4)\n",
      "Requirement already satisfied: python-dateutil>=2.8.2 in d:\\anaconda\\lib\\site-packages (from pandas<3.0,>=1.0->gradio) (2.9.0.post0)\n",
      "Requirement already satisfied: pytz>=2020.1 in d:\\anaconda\\lib\\site-packages (from pandas<3.0,>=1.0->gradio) (2024.1)\n",
      "Requirement already satisfied: tzdata>=2022.7 in d:\\anaconda\\lib\\site-packages (from pandas<3.0,>=1.0->gradio) (2023.3)\n",
      "Requirement already satisfied: annotated-types>=0.4.0 in d:\\anaconda\\lib\\site-packages (from pydantic>=2.0->gradio) (0.6.0)\n",
      "Requirement already satisfied: pydantic-core==2.14.6 in d:\\anaconda\\lib\\site-packages (from pydantic>=2.0->gradio) (2.14.6)\n",
      "Requirement already satisfied: click>=8.0.0 in d:\\anaconda\\lib\\site-packages (from typer<1.0,>=0.12->gradio) (8.1.7)\n",
      "Collecting shellingham>=1.3.0 (from typer<1.0,>=0.12->gradio)\n",
      "  Downloading shellingham-1.5.4-py2.py3-none-any.whl.metadata (3.5 kB)\n",
      "Requirement already satisfied: rich>=10.11.0 in d:\\anaconda\\lib\\site-packages (from typer<1.0,>=0.12->gradio) (13.3.5)\n",
      "Requirement already satisfied: colorama in d:\\anaconda\\lib\\site-packages (from click>=8.0.0->typer<1.0,>=0.12->gradio) (0.4.6)\n",
      "Requirement already satisfied: six>=1.5 in d:\\anaconda\\lib\\site-packages (from python-dateutil>=2.8.2->pandas<3.0,>=1.0->gradio) (1.16.0)\n",
      "Requirement already satisfied: markdown-it-py<3.0.0,>=2.2.0 in d:\\anaconda\\lib\\site-packages (from rich>=10.11.0->typer<1.0,>=0.12->gradio) (2.2.0)\n",
      "Requirement already satisfied: pygments<3.0.0,>=2.13.0 in d:\\anaconda\\lib\\site-packages (from rich>=10.11.0->typer<1.0,>=0.12->gradio) (2.15.1)\n",
      "Requirement already satisfied: charset-normalizer<4,>=2 in d:\\anaconda\\lib\\site-packages (from requests->huggingface-hub>=0.25.1->gradio) (2.0.4)\n",
      "Requirement already satisfied: urllib3<3,>=1.21.1 in d:\\anaconda\\lib\\site-packages (from requests->huggingface-hub>=0.25.1->gradio) (2.2.2)\n",
      "Requirement already satisfied: mdurl~=0.1 in d:\\anaconda\\lib\\site-packages (from markdown-it-py<3.0.0,>=2.2.0->rich>=10.11.0->typer<1.0,>=0.12->gradio) (0.1.0)\n",
      "Downloading gradio-5.0.1-py3-none-any.whl (42.3 MB)\n",
      "   ---------------------------------------- 0.0/42.3 MB ? eta -:--:--\n",
      "   ---------------------------------------- 0.1/42.3 MB 6.1 MB/s eta 0:00:07\n",
      "   ---------------------------------------- 0.4/42.3 MB 5.3 MB/s eta 0:00:08\n",
      "    --------------------------------------- 0.7/42.3 MB 5.9 MB/s eta 0:00:08\n",
      "   - -------------------------------------- 1.1/42.3 MB 6.5 MB/s eta 0:00:07\n",
      "   - -------------------------------------- 1.4/42.3 MB 6.3 MB/s eta 0:00:07\n",
      "   - -------------------------------------- 1.7/42.3 MB 6.5 MB/s eta 0:00:07\n",
      "   -- ------------------------------------- 2.2/42.3 MB 7.0 MB/s eta 0:00:06\n",
      "   -- ------------------------------------- 2.6/42.3 MB 7.1 MB/s eta 0:00:06\n",
      "   -- ------------------------------------- 2.7/42.3 MB 6.9 MB/s eta 0:00:06\n",
      "   -- ------------------------------------- 3.2/42.3 MB 7.2 MB/s eta 0:00:06\n",
      "   --- ------------------------------------ 3.4/42.3 MB 7.1 MB/s eta 0:00:06\n",
      "   --- ------------------------------------ 3.7/42.3 MB 7.0 MB/s eta 0:00:06\n",
      "   --- ------------------------------------ 4.2/42.3 MB 7.2 MB/s eta 0:00:06\n",
      "   ---- ----------------------------------- 4.5/42.3 MB 7.2 MB/s eta 0:00:06\n",
      "   ---- ----------------------------------- 4.8/42.3 MB 7.3 MB/s eta 0:00:06\n",
      "   ---- ----------------------------------- 5.3/42.3 MB 7.5 MB/s eta 0:00:05\n",
      "   ----- ---------------------------------- 5.4/42.3 MB 7.4 MB/s eta 0:00:05\n",
      "   ----- ---------------------------------- 5.9/42.3 MB 7.4 MB/s eta 0:00:05\n",
      "   ----- ---------------------------------- 6.2/42.3 MB 7.5 MB/s eta 0:00:05\n",
      "   ------ --------------------------------- 6.6/42.3 MB 7.5 MB/s eta 0:00:05\n",
      "   ------ --------------------------------- 7.1/42.3 MB 7.7 MB/s eta 0:00:05\n",
      "   ------- -------------------------------- 7.5/42.3 MB 7.7 MB/s eta 0:00:05\n",
      "   ------- -------------------------------- 7.9/42.3 MB 7.7 MB/s eta 0:00:05\n",
      "   ------- -------------------------------- 8.2/42.3 MB 7.8 MB/s eta 0:00:05\n",
      "   -------- ------------------------------- 8.5/42.3 MB 7.8 MB/s eta 0:00:05\n",
      "   -------- ------------------------------- 9.0/42.3 MB 7.9 MB/s eta 0:00:05\n",
      "   -------- ------------------------------- 9.3/42.3 MB 7.9 MB/s eta 0:00:05\n",
      "   --------- ------------------------------ 9.7/42.3 MB 7.9 MB/s eta 0:00:05\n",
      "   --------- ------------------------------ 10.1/42.3 MB 7.9 MB/s eta 0:00:05\n",
      "   --------- ------------------------------ 10.5/42.3 MB 8.1 MB/s eta 0:00:04\n",
      "   ---------- ----------------------------- 10.9/42.3 MB 8.1 MB/s eta 0:00:04\n",
      "   ---------- ----------------------------- 11.1/42.3 MB 8.0 MB/s eta 0:00:04\n",
      "   ---------- ----------------------------- 11.5/42.3 MB 8.1 MB/s eta 0:00:04\n",
      "   ----------- ---------------------------- 12.0/42.3 MB 8.2 MB/s eta 0:00:04\n",
      "   ----------- ---------------------------- 12.4/42.3 MB 8.2 MB/s eta 0:00:04\n",
      "   ------------ --------------------------- 12.8/42.3 MB 8.1 MB/s eta 0:00:04\n",
      "   ------------ --------------------------- 13.3/42.3 MB 8.3 MB/s eta 0:00:04\n",
      "   ------------ --------------------------- 13.7/42.3 MB 8.3 MB/s eta 0:00:04\n",
      "   ------------- -------------------------- 14.1/42.3 MB 8.3 MB/s eta 0:00:04\n",
      "   ------------- -------------------------- 14.5/42.3 MB 8.3 MB/s eta 0:00:04\n",
      "   -------------- ------------------------- 14.9/42.3 MB 8.3 MB/s eta 0:00:04\n",
      "   -------------- ------------------------- 15.2/42.3 MB 8.2 MB/s eta 0:00:04\n",
      "   -------------- ------------------------- 15.6/42.3 MB 8.3 MB/s eta 0:00:04\n",
      "   --------------- ------------------------ 16.0/42.3 MB 8.2 MB/s eta 0:00:04\n",
      "   --------------- ------------------------ 16.4/42.3 MB 8.2 MB/s eta 0:00:04\n",
      "   --------------- ------------------------ 16.8/42.3 MB 8.2 MB/s eta 0:00:04\n",
      "   ---------------- ----------------------- 17.2/42.3 MB 8.1 MB/s eta 0:00:04\n",
      "   ---------------- ----------------------- 17.4/42.3 MB 8.0 MB/s eta 0:00:04\n",
      "   ---------------- ----------------------- 17.8/42.3 MB 8.1 MB/s eta 0:00:04\n",
      "   ----------------- ---------------------- 18.1/42.3 MB 7.9 MB/s eta 0:00:04\n",
      "   ----------------- ---------------------- 18.6/42.3 MB 8.0 MB/s eta 0:00:03\n",
      "   ----------------- ---------------------- 19.0/42.3 MB 7.9 MB/s eta 0:00:03\n",
      "   ------------------ --------------------- 19.5/42.3 MB 8.0 MB/s eta 0:00:03\n",
      "   ------------------ --------------------- 19.8/42.3 MB 7.9 MB/s eta 0:00:03\n",
      "   ------------------- -------------------- 20.2/42.3 MB 7.8 MB/s eta 0:00:03\n",
      "   ------------------- -------------------- 20.6/42.3 MB 7.9 MB/s eta 0:00:03\n",
      "   ------------------- -------------------- 21.1/42.3 MB 8.0 MB/s eta 0:00:03\n",
      "   -------------------- ------------------- 21.5/42.3 MB 8.1 MB/s eta 0:00:03\n",
      "   -------------------- ------------------- 21.9/42.3 MB 8.1 MB/s eta 0:00:03\n",
      "   --------------------- ------------------ 22.3/42.3 MB 8.0 MB/s eta 0:00:03\n",
      "   --------------------- ------------------ 22.8/42.3 MB 8.1 MB/s eta 0:00:03\n",
      "   --------------------- ------------------ 23.2/42.3 MB 8.1 MB/s eta 0:00:03\n",
      "   ---------------------- ----------------- 23.6/42.3 MB 8.1 MB/s eta 0:00:03\n",
      "   ---------------------- ----------------- 24.2/42.3 MB 8.2 MB/s eta 0:00:03\n",
      "   ----------------------- ---------------- 24.5/42.3 MB 8.3 MB/s eta 0:00:03\n",
      "   ----------------------- ---------------- 24.8/42.3 MB 8.1 MB/s eta 0:00:03\n",
      "   ----------------------- ---------------- 25.3/42.3 MB 8.2 MB/s eta 0:00:03\n",
      "   ------------------------ --------------- 25.8/42.3 MB 8.2 MB/s eta 0:00:03\n",
      "   ------------------------ --------------- 26.2/42.3 MB 8.3 MB/s eta 0:00:02\n",
      "   ------------------------- -------------- 26.6/42.3 MB 8.3 MB/s eta 0:00:02\n",
      "   ------------------------- -------------- 27.1/42.3 MB 8.4 MB/s eta 0:00:02\n",
      "   -------------------------- ------------- 27.6/42.3 MB 8.5 MB/s eta 0:00:02\n",
      "   -------------------------- ------------- 28.0/42.3 MB 8.5 MB/s eta 0:00:02\n",
      "   -------------------------- ------------- 28.4/42.3 MB 8.6 MB/s eta 0:00:02\n",
      "   --------------------------- ------------ 28.8/42.3 MB 8.6 MB/s eta 0:00:02\n",
      "   --------------------------- ------------ 29.3/42.3 MB 8.5 MB/s eta 0:00:02\n",
      "   ---------------------------- ----------- 29.7/42.3 MB 8.5 MB/s eta 0:00:02\n",
      "   ---------------------------- ----------- 30.1/42.3 MB 8.6 MB/s eta 0:00:02\n",
      "   ---------------------------- ----------- 30.5/42.3 MB 8.6 MB/s eta 0:00:02\n",
      "   ----------------------------- ---------- 30.9/42.3 MB 8.5 MB/s eta 0:00:02\n",
      "   ----------------------------- ---------- 31.3/42.3 MB 8.5 MB/s eta 0:00:02\n",
      "   ------------------------------ --------- 31.8/42.3 MB 8.6 MB/s eta 0:00:02\n",
      "   ------------------------------ --------- 32.2/42.3 MB 8.6 MB/s eta 0:00:02\n",
      "   ------------------------------ --------- 32.6/42.3 MB 8.6 MB/s eta 0:00:02\n",
      "   ------------------------------- -------- 33.0/42.3 MB 8.5 MB/s eta 0:00:02\n",
      "   ------------------------------- -------- 33.3/42.3 MB 8.5 MB/s eta 0:00:02\n",
      "   ------------------------------- -------- 33.6/42.3 MB 8.5 MB/s eta 0:00:02\n",
      "   -------------------------------- ------- 34.1/42.3 MB 8.4 MB/s eta 0:00:01\n",
      "   -------------------------------- ------- 34.4/42.3 MB 8.4 MB/s eta 0:00:01\n",
      "   -------------------------------- ------- 34.8/42.3 MB 8.4 MB/s eta 0:00:01\n",
      "   --------------------------------- ------ 35.2/42.3 MB 8.5 MB/s eta 0:00:01\n",
      "   --------------------------------- ------ 35.6/42.3 MB 8.3 MB/s eta 0:00:01\n",
      "   ---------------------------------- ----- 36.1/42.3 MB 8.3 MB/s eta 0:00:01\n",
      "   ---------------------------------- ----- 36.5/42.3 MB 8.4 MB/s eta 0:00:01\n",
      "   ---------------------------------- ----- 36.9/42.3 MB 8.3 MB/s eta 0:00:01\n",
      "   ----------------------------------- ---- 37.3/42.3 MB 8.3 MB/s eta 0:00:01\n",
      "   ----------------------------------- ---- 37.7/42.3 MB 8.2 MB/s eta 0:00:01\n",
      "   ----------------------------------- ---- 38.0/42.3 MB 8.1 MB/s eta 0:00:01\n",
      "   ------------------------------------ --- 38.3/42.3 MB 8.1 MB/s eta 0:00:01\n",
      "   ------------------------------------ --- 38.7/42.3 MB 8.1 MB/s eta 0:00:01\n",
      "   ------------------------------------ --- 39.0/42.3 MB 8.0 MB/s eta 0:00:01\n",
      "   ------------------------------------- -- 39.3/42.3 MB 8.0 MB/s eta 0:00:01\n",
      "   ------------------------------------- -- 39.7/42.3 MB 8.0 MB/s eta 0:00:01\n",
      "   ------------------------------------- -- 40.1/42.3 MB 8.0 MB/s eta 0:00:01\n",
      "   -------------------------------------- - 40.5/42.3 MB 7.9 MB/s eta 0:00:01\n",
      "   -------------------------------------- - 40.9/42.3 MB 7.9 MB/s eta 0:00:01\n",
      "   ---------------------------------------  41.3/42.3 MB 8.0 MB/s eta 0:00:01\n",
      "   ---------------------------------------  41.7/42.3 MB 8.0 MB/s eta 0:00:01\n",
      "   ---------------------------------------  42.1/42.3 MB 8.0 MB/s eta 0:00:01\n",
      "   ---------------------------------------  42.3/42.3 MB 8.0 MB/s eta 0:00:01\n",
      "   ---------------------------------------  42.3/42.3 MB 8.0 MB/s eta 0:00:01\n",
      "   ---------------------------------------- 42.3/42.3 MB 7.4 MB/s eta 0:00:00\n",
      "Downloading gradio_client-1.4.0-py3-none-any.whl (319 kB)\n",
      "   ---------------------------------------- 0.0/319.8 kB ? eta -:--:--\n",
      "   ---------------------------------------  317.4/319.8 kB 6.5 MB/s eta 0:00:01\n",
      "   ---------------------------------------- 319.8/319.8 kB 6.6 MB/s eta 0:00:00\n",
      "Downloading tomlkit-0.12.0-py3-none-any.whl (37 kB)\n",
      "Downloading aiofiles-23.2.1-py3-none-any.whl (15 kB)\n",
      "Downloading fastapi-0.115.0-py3-none-any.whl (94 kB)\n",
      "   ---------------------------------------- 0.0/94.6 kB ? eta -:--:--\n",
      "   ---------------------------------------- 94.6/94.6 kB 5.3 MB/s eta 0:00:00\n",
      "Downloading huggingface_hub-0.25.2-py3-none-any.whl (436 kB)\n",
      "   ---------------------------------------- 0.0/436.6 kB ? eta -:--:--\n",
      "   -------------------------- ------------- 286.7/436.6 kB 8.9 MB/s eta 0:00:01\n",
      "   ---------------------------------------- 436.6/436.6 kB 6.9 MB/s eta 0:00:00\n",
      "Downloading orjson-3.10.7-cp312-none-win_amd64.whl (137 kB)\n",
      "   ---------------------------------------- 0.0/137.3 kB ? eta -:--:--\n",
      "   ---------------------------------------- 137.3/137.3 kB 4.1 MB/s eta 0:00:00\n",
      "Downloading python_multipart-0.0.12-py3-none-any.whl (23 kB)\n",
      "Downloading ruff-0.6.9-py3-none-win_amd64.whl (9.4 MB)\n",
      "   ---------------------------------------- 0.0/9.4 MB ? eta -:--:--\n",
      "   - -------------------------------------- 0.4/9.4 MB 7.6 MB/s eta 0:00:02\n",
      "   -- ------------------------------------- 0.7/9.4 MB 8.4 MB/s eta 0:00:02\n",
      "   --- ------------------------------------ 0.9/9.4 MB 7.2 MB/s eta 0:00:02\n",
      "   ----- ---------------------------------- 1.2/9.4 MB 7.1 MB/s eta 0:00:02\n",
      "   ------- -------------------------------- 1.7/9.4 MB 7.7 MB/s eta 0:00:02\n",
      "   --------- ------------------------------ 2.2/9.4 MB 8.2 MB/s eta 0:00:01\n",
      "   ---------- ----------------------------- 2.4/9.4 MB 8.2 MB/s eta 0:00:01\n",
      "   ----------- ---------------------------- 2.8/9.4 MB 8.1 MB/s eta 0:00:01\n",
      "   ------------- -------------------------- 3.2/9.4 MB 8.1 MB/s eta 0:00:01\n",
      "   --------------- ------------------------ 3.5/9.4 MB 7.8 MB/s eta 0:00:01\n",
      "   ---------------- ----------------------- 3.8/9.4 MB 7.8 MB/s eta 0:00:01\n",
      "   ----------------- ---------------------- 4.1/9.4 MB 7.7 MB/s eta 0:00:01\n",
      "   ------------------- -------------------- 4.6/9.4 MB 7.9 MB/s eta 0:00:01\n",
      "   -------------------- ------------------- 4.8/9.4 MB 7.7 MB/s eta 0:00:01\n",
      "   ---------------------- ----------------- 5.2/9.4 MB 7.8 MB/s eta 0:00:01\n",
      "   ----------------------- ---------------- 5.6/9.4 MB 7.8 MB/s eta 0:00:01\n",
      "   ------------------------- -------------- 6.0/9.4 MB 7.8 MB/s eta 0:00:01\n",
      "   --------------------------- ------------ 6.4/9.4 MB 7.8 MB/s eta 0:00:01\n",
      "   ---------------------------- ----------- 6.7/9.4 MB 7.7 MB/s eta 0:00:01\n",
      "   ------------------------------ --------- 7.1/9.4 MB 7.8 MB/s eta 0:00:01\n",
      "   ------------------------------- -------- 7.4/9.4 MB 7.8 MB/s eta 0:00:01\n",
      "   -------------------------------- ------- 7.7/9.4 MB 7.8 MB/s eta 0:00:01\n",
      "   ---------------------------------- ----- 8.1/9.4 MB 7.8 MB/s eta 0:00:01\n",
      "   ----------------------------------- ---- 8.4/9.4 MB 7.9 MB/s eta 0:00:01\n",
      "   ------------------------------------- -- 8.7/9.4 MB 7.8 MB/s eta 0:00:01\n",
      "   -------------------------------------- - 9.0/9.4 MB 7.8 MB/s eta 0:00:01\n",
      "   ---------------------------------------  9.3/9.4 MB 7.9 MB/s eta 0:00:01\n",
      "   ---------------------------------------- 9.4/9.4 MB 7.7 MB/s eta 0:00:00\n",
      "Downloading semantic_version-2.10.0-py2.py3-none-any.whl (15 kB)\n",
      "Downloading typer-0.12.5-py3-none-any.whl (47 kB)\n",
      "   ---------------------------------------- 0.0/47.3 kB ? eta -:--:--\n",
      "   ---------------------------------------- 47.3/47.3 kB ? eta 0:00:00\n",
      "Downloading uvicorn-0.31.1-py3-none-any.whl (63 kB)\n",
      "   ---------------------------------------- 0.0/63.7 kB ? eta -:--:--\n",
      "   ---------------------------------------- 63.7/63.7 kB 3.6 MB/s eta 0:00:00\n",
      "Downloading ffmpy-0.4.0-py3-none-any.whl (5.8 kB)\n",
      "Downloading pydub-0.25.1-py2.py3-none-any.whl (32 kB)\n",
      "Downloading shellingham-1.5.4-py2.py3-none-any.whl (9.8 kB)\n",
      "Downloading starlette-0.38.6-py3-none-any.whl (71 kB)\n",
      "   ---------------------------------------- 0.0/71.5 kB ? eta -:--:--\n",
      "   ---------------------------------------- 71.5/71.5 kB 3.8 MB/s eta 0:00:00\n",
      "Downloading websockets-12.0-cp312-cp312-win_amd64.whl (124 kB)\n",
      "   ---------------------------------------- 0.0/125.0 kB ? eta -:--:--\n",
      "   ---------------------------------------- 125.0/125.0 kB 7.6 MB/s eta 0:00:00\n",
      "Installing collected packages: pydub, websockets, tomlkit, shellingham, semantic-version, ruff, python-multipart, orjson, ffmpy, aiofiles, uvicorn, starlette, huggingface-hub, typer, gradio-client, fastapi, gradio\n",
      "  Attempting uninstall: tomlkit\n",
      "    Found existing installation: tomlkit 0.11.1\n",
      "    Uninstalling tomlkit-0.11.1:\n",
      "      Successfully uninstalled tomlkit-0.11.1\n",
      "Successfully installed aiofiles-23.2.1 fastapi-0.115.0 ffmpy-0.4.0 gradio-5.0.1 gradio-client-1.4.0 huggingface-hub-0.25.2 orjson-3.10.7 pydub-0.25.1 python-multipart-0.0.12 ruff-0.6.9 semantic-version-2.10.0 shellingham-1.5.4 starlette-0.38.6 tomlkit-0.12.0 typer-0.12.5 uvicorn-0.31.1 websockets-12.0\n"
     ]
    }
   ],
   "source": [
    "!pip install gradio"
   ]
  },
  {
   "cell_type": "code",
   "execution_count": 219,
   "id": "b007dfd4-3978-40c4-8c25-6cd2c151cc28",
   "metadata": {},
   "outputs": [
    {
     "name": "stdout",
     "output_type": "stream",
     "text": [
      "* Running on local URL:  http://127.0.0.1:7860\n",
      "* Running on public URL: https://f50aa7ab6b06e86d3b.gradio.live\n",
      "\n",
      "This share link expires in 72 hours. For free permanent hosting and GPU upgrades, run `gradio deploy` from the terminal in the working directory to deploy to Hugging Face Spaces (https://huggingface.co/spaces)\n"
     ]
    },
    {
     "data": {
      "text/html": [
       "<div><iframe src=\"https://f50aa7ab6b06e86d3b.gradio.live\" width=\"100%\" height=\"500\" allow=\"autoplay; camera; microphone; clipboard-read; clipboard-write;\" frameborder=\"0\" allowfullscreen></iframe></div>"
      ],
      "text/plain": [
       "<IPython.core.display.HTML object>"
      ]
     },
     "metadata": {},
     "output_type": "display_data"
    },
    {
     "data": {
      "text/plain": []
     },
     "execution_count": 219,
     "metadata": {},
     "output_type": "execute_result"
    }
   ],
   "source": [
    "import gradio as gr\n",
    "title=\"MOVIE REVIW SENTIMENT ANALYSIS\"\n",
    "app= gr.Interface(fn=predictive_system,inputs=\"textbox\", outputs=\"textbox\", title=title)\n",
    "app.launch(share=True)\n",
    "\n"
   ]
  },
  {
   "cell_type": "code",
   "execution_count": null,
   "id": "97862d64-a6aa-4d05-b95b-d706d691b144",
   "metadata": {},
   "outputs": [],
   "source": []
  }
 ],
 "metadata": {
  "kernelspec": {
   "display_name": "Python 3 (ipykernel)",
   "language": "python",
   "name": "python3"
  },
  "language_info": {
   "codemirror_mode": {
    "name": "ipython",
    "version": 3
   },
   "file_extension": ".py",
   "mimetype": "text/x-python",
   "name": "python",
   "nbconvert_exporter": "python",
   "pygments_lexer": "ipython3",
   "version": "3.12.4"
  }
 },
 "nbformat": 4,
 "nbformat_minor": 5
}
